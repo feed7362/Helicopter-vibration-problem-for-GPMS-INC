{
 "cells": [
  {
   "cell_type": "code",
   "execution_count": 1,
   "id": "initial_id",
   "metadata": {
    "ExecuteTime": {
     "end_time": "2024-09-13T14:51:38.582942Z",
     "start_time": "2024-09-13T14:51:38.576934Z"
    },
    "collapsed": true
   },
   "outputs": [],
   "source": [
    "import polars as pl\n",
    "import csv\n",
    "import os"
   ]
  },
  {
   "cell_type": "code",
   "execution_count": 6,
   "id": "d6b17ab8",
   "metadata": {},
   "outputs": [],
   "source": [
    "key_folder_path = \"dataset/txt/key.txt\"\n",
    "folder_path = \"dataset/txt/\"\n",
    "columns = []\n",
    "\n",
    "with open(key_folder_path, 'r') as file:\n",
    "    for line in file:\n",
    "        columns.append(str(int(float(line.strip()))))\n",
    "\n",
    "unique_columns = []\n",
    "seen = {}\n",
    "for col in columns:\n",
    "    if col not in seen:\n",
    "        unique_columns.append(col)\n",
    "        seen[col] = 1\n",
    "    else:\n",
    "        new_col = f\"{col}_{seen[col]}\"\n",
    "        unique_columns.append(new_col)\n",
    "        seen[col] += 1\n",
    "\n",
    "all_data = []\n",
    "for file_name in os.listdir(folder_path):\n",
    "    if file_name == 'key.txt': pass\n",
    "    file_path = os.path.join(folder_path, file_name)\n",
    "    with open(file_path, 'r') as file:\n",
    "        file_data = [float(line.strip()) for line in file.readlines()]\n",
    "        all_data.extend(file_data)\n",
    "\n",
    "reshaped_data = [all_data[i:i + len(unique_columns)] for i in range(0, len(all_data), len(unique_columns))]\n",
    "df = pl.DataFrame(reshaped_data, schema=unique_columns, orient=\"row\")\n",
    "\n",
    "df.write_csv('vibration_data.csv')\n",
    "print(\"CSV file created successfully.\")\n"
   ]
  },
  {
   "cell_type": "code",
   "execution_count": 8,
   "id": "054d2ecc",
   "metadata": {},
   "outputs": [
    {
     "data": {
      "text/plain": [
       "(1158, 1158)"
      ]
     },
     "execution_count": 8,
     "metadata": {},
     "output_type": "execute_result"
    }
   ],
   "source": [
    "ww = pl.read_csv(\"key_vibration_data.csv\", truncate_ragged_lines=True)\n",
    "ww.shape"
   ]
  }
 ],
 "metadata": {
  "kernelspec": {
   "display_name": "Python 3",
   "language": "python",
   "name": "python3"
  },
  "language_info": {
   "codemirror_mode": {
    "name": "ipython",
    "version": 3
   },
   "file_extension": ".py",
   "mimetype": "text/x-python",
   "name": "python",
   "nbconvert_exporter": "python",
   "pygments_lexer": "ipython3",
   "version": "3.11.9"
  }
 },
 "nbformat": 4,
 "nbformat_minor": 5
}
